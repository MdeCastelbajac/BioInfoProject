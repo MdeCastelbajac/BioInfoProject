{
 "cells": [
  {
   "cell_type": "markdown",
   "metadata": {},
   "source": [
    "# Detection de motifs\n",
    "\n",
    "\n",
    "## Greedy Profile Motif Search\n"
   ]
  },
  {
   "cell_type": "code",
   "execution_count": null,
   "metadata": {},
   "outputs": [],
   "source": [
    "import random\n",
    "\n",
    "nuc = ('A', 'C', 'G', 'T')\n",
    "\n",
    "t=10 #nombre de sequences\n",
    "n=41 #longueur des sequences\n",
    "\n",
    "\n",
    "\n",
    "def generateRandomSequences(n, t):\n",
    "    sequences = []\n",
    "   \n",
    "    return sequences\n",
    "    \n",
    "seqs = generateRandomSequences(n, t);\n",
    "\n",
    "#print (seqs)\n"
   ]
  },
  {
   "cell_type": "code",
   "execution_count": null,
   "metadata": {},
   "outputs": [],
   "source": [
    "# nombre de motifs nM = 3 \n",
    "nM = 3 \n",
    "# taille des motifs k = 9\n",
    "k = 9 \n",
    "# frequences des motifs f = .9 \n",
    "f = .9 \n",
    "\n",
    "import random\n",
    "\n",
    "# Generate motifs\n",
    "def generateMotifs(k, nM):\n",
    "    return [generateRandomSequence(k, False) for rs in range(nM)]\n",
    "\n",
    "motifs = generateMotifs(k, nM) \n",
    "#print (motifs)\n",
    "\n",
    "def implantMotifs(motifs, f, sequences):\n",
    "   \n",
    "    modified_sequences     = []\n",
    "    \n",
    "    return modified_sequences\n",
    "\n",
    "\n",
    "motif_implanted_seqs = implantMotifs(motifs, f, seqs)\n",
    "#print (\"\\nModified sequences:\", motif_implanted_seqs)\n"
   ]
  },
  {
   "cell_type": "code",
   "execution_count": null,
   "metadata": {},
   "outputs": [],
   "source": [
    "m = 5\n",
    "\n",
    "def removeLowComplexe(motifs, minrep):\n",
    "    validMotif = {}\n",
    "   \n",
    "    return validMotif\n",
    "\n",
    "def removeLowComplexePair(motifs):\n",
    "    validMotif = {}\n",
    "  \n",
    "    return validMotif\n",
    "\n",
    "motifs = removeLowComplexe(motifsData, m)\n",
    "motifs = removeLowComplexePair(motifs)"
   ]
  },
  {
   "cell_type": "code",
   "execution_count": null,
   "metadata": {},
   "outputs": [],
   "source": [
    "def searchMotifs(k, f, sequences):\n",
    "    motifs  = {}; #key = motif; value=nombre d'occurrences\n",
    "    \n",
    "    return motifsfreq\n",
    "\n",
    "def printTopFMotifsFreq(motifs, m):\n",
    "\n",
    "    motifsSort = sorted(motifs, reverse=True, key=motifs.get)\n",
    "    i = 0\n",
    "    while (i < m):\n",
    "        #print motif et nombre d'occurrences\n",
    "        \n",
    "        i = i + 1\n",
    "        \n",
    "\n",
    "\n",
    "motifsFound = searchMotifs(9, 9, motif_implanted_seqs)\n",
    "printTopFMotifsFreq(motifsFound, 3)\n"
   ]
  }
 ],
 "metadata": {
  "kernelspec": {
   "display_name": "Python 3",
   "language": "python",
   "name": "python3"
  },
  "language_info": {
   "codemirror_mode": {
    "name": "ipython",
    "version": 3
   },
   "file_extension": ".py",
   "mimetype": "text/x-python",
   "name": "python",
   "nbconvert_exporter": "python",
   "pygments_lexer": "ipython3",
   "version": "3.7.6"
  }
 },
 "nbformat": 4,
 "nbformat_minor": 2
}
