{
 "cells": [
  {
   "cell_type": "markdown",
   "metadata": {},
   "source": [
    "# Detection de motifs\n",
    "\n",
    "\n",
    "## Algorithmes Randomisés.\n"
   ]
  },
  {
   "cell_type": "code",
   "execution_count": 1,
   "metadata": {},
   "outputs": [],
   "source": [
    "import random\n",
    "import numpy as np\n",
    "\n",
    "nuc = ('A', 'C', 'G', 'T')\n",
    "\n",
    "k=7 #taille de motif\n",
    "v=4 #nb de positions variable dans le motif\n",
    "t=20 #nb de sequences\n",
    "n=50 #longuer des sequence\n",
    "\n",
    "sequence_exemple=[]\n",
    "\n",
    "def generateRandomSequence(n):\n",
    "    return random.choices([\"A\",\"T\",\"G\",\"C\"],weights =[1,1,1,1],k=n)\n",
    "\n",
    "def generateRandomSequences(n, t):\n",
    "    return [generateRandomSequence(n) for k in range(0,t)]\n",
    "\n",
    "def generateMotif(k,v):\n",
    "    \n",
    "    motif=random.choices([\"A\",\"T\",\"G\",\"C\"],weights =[1,1,1,1],k=k)\n",
    "    \n",
    "    dico_rand={0:\"A\",1:\"T\",2:\"G\",3:\"C\"}\n",
    "    \n",
    "    \n",
    "    for i in range(0,v):\n",
    "        motif[int(random.uniform(0,len(motif)))]=dico_rand[int(random.uniform(0,4))]\n",
    "    return motif\n",
    "\n",
    "\n",
    "\n",
    "def implant_motif_seq(seq,motif):\n",
    "    place_injection_motif=int(random.uniform(0,len(seq)))\n",
    "    return seq[:place_injection_motif]+motif+seq[place_injection_motif:]\n",
    "\n",
    "\n",
    "\n",
    "\n",
    "def motif_low_complexe_valide(motif,minrep,taille_motif):\n",
    "    for mod in range(0,taille_motif):\n",
    "        tmp_motif=motif[mod:]\n",
    "        lettre_actu=tmp_motif[:taille_motif]\n",
    "        cpt=1\n",
    "        for i in range(taille_motif,len(tmp_motif),taille_motif):\n",
    "                if lettre_actu==tmp_motif[i:i+taille_motif]:\n",
    "                    cpt+=1\n",
    "                \n",
    "                    if (cpt>=minrep):\n",
    "                        return False\n",
    "                else:\n",
    "                    lettre_actu=tmp_motif[i:i+taille_motif]\n",
    "                    cpt=1\n",
    "    return True\n",
    "                \n",
    "\n",
    "assert(motif_low_complexe_valide(\"ATGC\",2,2)==True)\n",
    "assert(motif_low_complexe_valide(\"GATATATGC\",3,2)==False)\n",
    "assert(motif_low_complexe_valide(\"ATATATGC\",3,2)==False)\n",
    "assert(motif_low_complexe_valide(\"ATAAGC\",2,1)==False)\n",
    "assert(motif_low_complexe_valide(\"ATGC\",2,1)==True)\n",
    "assert(motif_low_complexe_valide(\"ATTGC\",2,1)==False)\n",
    "assert(motif_low_complexe_valide(\"ATGC\",50,1)==True)\n",
    "\n",
    "                \n",
    "def removeLowComplexe(sequences, minrep,taille_motif):\n",
    "    res=[]\n",
    "    \n",
    "    for seq in sequences:\n",
    "        res_seq=\"\"\n",
    "        for i in range(0,len(seq)-k,k):\n",
    "            if motif_low_complexe_valide(seq[i:i+k],minrep,taille_motif):\n",
    "                res_seq+=seq[i:i+k]\n",
    "        \n",
    "        if not res_seq==\"\":\n",
    "            res+=[res_seq]\n",
    "        \n",
    "    \n",
    "    return res\n",
    "\n",
    "def implantMotifVar(k, v, t, n):\n",
    "       \n",
    "    sequences=generateRandomSequences(n, t)\n",
    "    \n",
    "    \n",
    "    res=[]\n",
    "    motif=generateMotif(k,v)\n",
    "    \n",
    "    for seq in sequences:\n",
    "        res+=[\"\".join(implant_motif_seq(seq,motif))]\n",
    "    \n",
    "    return \"\".join(motif),res\n",
    "\n"
   ]
  },
  {
   "cell_type": "code",
   "execution_count": 2,
   "metadata": {},
   "outputs": [
    {
     "name": "stdout",
     "output_type": "stream",
     "text": [
      "motif implanté:  GCAGCTT \n",
      "\n",
      "\n",
      "séquences obtenues :\n",
      "\n",
      " ['GTGGCAGCTTCGACACGAGAACTGGCTGACGTCCCCTGATGTGTAAGTAAACAGTGT', 'AATTGAACGGCACTCTGTCCCTGCAGCTTCTATCCGCGGGCCGGTTGTTTCAACCGG', 'TGGCAGCTTAGACGAACTCCAAGGTACTCTCCCCCTCATCCGTTACGCCAAAACTTT', 'CAAACTTCCGTAACAGTGACGTGGGGCGCAGCTTCGCAATCTCCGATATGCTTCACG', 'GATTTCCATAGGTCTCCTGACAGTGTGCAGCTTTTGGTAATCGTGAAATGCAGAGCA', 'CTACATAACAGAGCAGCTTTGGCGACTAAAGATCCGTTATCTTAGCGGGATTATCGG', 'GCAGCTTGTGAACGGGCCCTCAATTTTTACGTGCGCGTTTCTGCATTAGCAGACGTA', 'AGGATTTTGCAGCTTGATCTGTAGGGTCAGGATCATGTTTCTGCGAGTACATTCGCA', 'AGATATATTATGGCAGCTTCTCAACTAGCACGGCGCGAGAGAGATAGTACTGGTTTT', 'GCCTTCGCTTGGCAGCTTAACTGTCAATATTAAAGGAGAGCCTCTGCAGGCGCGGTT', 'GTGTGCAGCTTTTTTATAGGACCCAGGCGATCGGACCGGCCGCGGTCTGATTACGAC', 'GTCCTGCAAATGCGATATCAGACAAGAGGCAGCTTGGCCAGGCCAGGCGGACCGTGA', 'CTGGCTCTCCGCTACATATCACCGAGGGAGGATTTACCACCTTTATGCAGCTTAGCA', 'ATCTCTCATCCAACGAAATTTCCGCCAGCAATAAATAAATTACCCGCAGCTTCCCCC', 'AAACGCCACACCGCATTTCAAAAAGCGACCTCAGAAAGGAGATCTGCAGCTTTCAGA', 'CACAGGTGAAGGTCGCAGCGGTTTACACAGCAGTCATGCAGCTTACCATACTTCCCC', 'CCCCTAAACACTGCAGCTTTGGAAATTCCACACGTTGGATCTACCTCACAAAGAGAG', 'TGGCACTGAGTGAAATCATCACTCACTGGTGGGAAAAATTGCAGCTTTCAATGTTAA', 'TGTGTAAAAGCAGCTTGCGAGCAGACAACCGCAGACAATTGGTGACACGGGTTCTCC', 'GACTCGATTAAATAAGCCTAATAACATGGCATGGAGCAGCTTGGGTGAGTTCCTATG'] \n",
      "\n",
      "\n"
     ]
    }
   ],
   "source": [
    "#generate and implant variavel motifs\n",
    "motif_implante,sequences = implantMotifVar(k, v, t, n)\n",
    "\n",
    "print(\"motif implanté: \",motif_implante,\"\\n\\n\")\n",
    "print(\"séquences obtenues :\\n\\n\",sequences,\"\\n\\n\")"
   ]
  },
  {
   "cell_type": "code",
   "execution_count": 3,
   "metadata": {},
   "outputs": [
    {
     "name": "stdout",
     "output_type": "stream",
     "text": [
      "positions de départ:  [28, 15, 19, 42, 10, 30, 14, 6, 23, 41, 30, 11, 30, 5, 33, 25, 14, 21, 28, 41]\n"
     ]
    }
   ],
   "source": [
    "#creating vector s\n",
    "#Get t random positions from 0 to n - k\n",
    "def generateRandomS(sequences, taille_motif , nombre_de_positions):\n",
    "    \n",
    "    return [int(random.uniform(0,n-taille_motif)) for k in range(0,nombre_de_positions)] \n",
    "\n",
    "s = generateRandomS(sequences, k , t)\n",
    "\n",
    "\n",
    "print(\"positions de départ: \",s)    "
   ]
  },
  {
   "cell_type": "code",
   "execution_count": 4,
   "metadata": {},
   "outputs": [
    {
     "name": "stdout",
     "output_type": "stream",
     "text": [
      "motifs obtenus:\n",
      "\n",
      " ['ACGTCCC', 'TGTCCCT', 'CAAGGTA', 'CCGATAT', 'GGTCTCC', 'GATCCGT', 'GGCCCTC', 'TTGCAGC', 'ACTAGCA', 'CTCTGCA', 'TCGGACC', 'GCGATAT', 'GATTTAC', 'TCATCCA', 'GAAAGGA', 'CACAGCA', 'AGCTTTG', 'CTCACTG', 'CCGCAGA', 'TGGGTGA'] \n",
      "\n",
      "\n",
      "matrice de profil obtenue :\n",
      "\n",
      " [[4. 6. 4. 7. 4. 4. 9.]\n",
      " [6. 4. 6. 6. 7. 5. 5.]\n",
      " [7. 6. 8. 4. 6. 6. 3.]\n",
      " [7. 8. 6. 7. 7. 9. 7.]]\n"
     ]
    }
   ],
   "source": [
    "#extract sequences from seqs\n",
    "def extractSeqs(s, seqs):    \n",
    "    return (list(map(lambda s_elem,seqs_elem : \"\".join(seqs_elem[s_elem:s_elem+k])  ,s,seqs)))\n",
    "\n",
    "motifs = extractSeqs(s, sequences)\n",
    "print(\"motifs obtenus:\\n\\n\",motifs,\"\\n\\n\")\n",
    "    \n",
    "dico_nucl={\"A\":0,\"T\":1,\"G\":2,\"C\":3}\n",
    "\n",
    "\n",
    "        \n",
    "        \n",
    "        \n",
    "#on suppose que les motifs sont tous de la même taille\n",
    "def profile(motifs):\n",
    "    \n",
    "    taille_motif=len(motifs[0])\n",
    "    #initialisation de la matrice\n",
    "    PWM = np.ones((4, taille_motif))\n",
    "\n",
    "    #ajout des informations de chaque motif a la matrice\n",
    "    for tmp_motif in motifs:\n",
    "        for i in range(0,taille_motif):\n",
    "            PWM[dico_nucl[tmp_motif[i]]][i]+=1\n",
    "            \n",
    "    return PWM\n",
    "\n",
    "mat_profile=profile(motifs)\n",
    "\n",
    "print(\"matrice de profil obtenue :\\n\\n\",mat_profile)"
   ]
  },
  {
   "cell_type": "code",
   "execution_count": 5,
   "metadata": {},
   "outputs": [],
   "source": [
    "#test\n",
    "\n",
    "test_profile=profile(['A','T','C'])\n",
    "#print(test_profile)"
   ]
  },
  {
   "cell_type": "code",
   "execution_count": 6,
   "metadata": {},
   "outputs": [
    {
     "name": "stdout",
     "output_type": "stream",
     "text": [
      "mat_PWM obtenue :\n",
      "\n",
      " [[0.16666666666666666, 0.25, 0.16666666666666666, 0.2916666666666667, 0.16666666666666666, 0.16666666666666666, 0.375], [0.25, 0.16666666666666666, 0.25, 0.25, 0.2916666666666667, 0.20833333333333334, 0.20833333333333334], [0.2916666666666667, 0.25, 0.3333333333333333, 0.16666666666666666, 0.25, 0.25, 0.125], [0.2916666666666667, 0.3333333333333333, 0.25, 0.2916666666666667, 0.2916666666666667, 0.375, 0.2916666666666667]]\n"
     ]
    }
   ],
   "source": [
    "def profile_into_PWM(profile):\n",
    "    #on suppose que toutes les séquences ont la même longueur\n",
    "    return list(map(lambda mat_pro:(list(map(lambda case:case/(t+4),mat_pro))),profile))\n",
    "\n",
    "\n",
    "mat_PWM=profile_into_PWM(mat_profile)\n",
    "print(\"mat_PWM obtenue :\\n\\n\",profile_into_PWM(mat_profile))\n",
    "\n"
   ]
  },
  {
   "cell_type": "code",
   "execution_count": 7,
   "metadata": {},
   "outputs": [],
   "source": [
    "dico_nucl={\"A\":0,\"T\":1,\"G\":2,\"C\":3}\n",
    "\n",
    "def probability(index_start,tmp_PWM, seq):\n",
    "    proba=1\n",
    "    taille_motif=len(seq)\n",
    "    \n",
    "    if (taille_motif+index_start>len(tmp_PWM[0])):\n",
    "        return 0\n",
    "    \n",
    "    for a in range(0,taille_motif):\n",
    "        proba=proba*tmp_PWM[dico_nucl[seq[a]]][a+index_start]\n",
    "    \n",
    "    return proba\n",
    "        "
   ]
  },
  {
   "cell_type": "code",
   "execution_count": 8,
   "metadata": {},
   "outputs": [
    {
     "name": "stdout",
     "output_type": "stream",
     "text": [
      "0.027777777777777776\n"
     ]
    }
   ],
   "source": [
    "#test\n",
    "print(probability(0,mat_PWM,[\"A\",\"T\"]))"
   ]
  },
  {
   "cell_type": "code",
   "execution_count": 9,
   "metadata": {},
   "outputs": [],
   "source": [
    "def pMostProbkmer(P, k, sequence):\n",
    "    maxProb = 0\n",
    "    s = 0 # position du k-mer le plus probable dans la sequence\n",
    "    \n",
    "    range_taille_motifs=len(sequence)-k\n",
    "    for index in range(0,range_taille_motifs):\n",
    "        tmp_proba=probability(index,P,sequence[index:index+k])\n",
    "        \n",
    "        if (maxProb<tmp_proba):\n",
    "            s=index\n",
    "            maxProb=tmp_proba\n",
    "\n",
    "    return s\n",
    "\n"
   ]
  },
  {
   "cell_type": "code",
   "execution_count": 10,
   "metadata": {},
   "outputs": [],
   "source": [
    "#test\n",
    "s = pMostProbkmer(mat_PWM, k, \"GCCGGATACT\")\n",
    "\n",
    "#si k=7, le resultat attendu est 0\n",
    "assert(s==0)\n"
   ]
  },
  {
   "cell_type": "code",
   "execution_count": 11,
   "metadata": {},
   "outputs": [
    {
     "name": "stdout",
     "output_type": "stream",
     "text": [
      "longueur de la mat profil des séquences:  57  len des séquences :  57 \n",
      "\n",
      "\n"
     ]
    }
   ],
   "source": [
    "mat_profile_sequences=profile(sequences)\n",
    "print(\"longueur de la mat profil des séquences: \",len(mat_profile_sequences[0]),\" len des séquences : \",len(sequences[0]),\"\\n\\n\")\n",
    "#print(\"matrice de profil des séquences : \\n\",mat_profile_sequences)"
   ]
  },
  {
   "cell_type": "code",
   "execution_count": 12,
   "metadata": {},
   "outputs": [],
   "source": [
    "def getNewS( mat_profile, sequences):    \n",
    "    res=[]\n",
    "    mat_PWM=profile_into_PWM(mat_profile)\n",
    "    \n",
    "    for seq_elem in sequences:\n",
    "        res+=[pMostProbkmer(mat_PWM,k,seq_elem)]\n",
    "    \n",
    "    \n",
    "    return res"
   ]
  },
  {
   "cell_type": "code",
   "execution_count": 13,
   "metadata": {},
   "outputs": [
    {
     "name": "stdout",
     "output_type": "stream",
     "text": [
      "start positions des motifs les plus probables :\n",
      "\n",
      " [37, 31, 14, 35, 7, 11, 39, 38, 13, 42, 48, 14, 40, 47, 47, 47, 12, 14, 19, 42] \n",
      "\n",
      "\n"
     ]
    }
   ],
   "source": [
    "start_probables_sequences = getNewS( mat_profile_sequences , sequences)\n",
    "print (\"start positions des motifs les plus probables :\\n\\n\",start_probables_sequences,\"\\n\\n\")"
   ]
  },
  {
   "cell_type": "code",
   "execution_count": 14,
   "metadata": {},
   "outputs": [],
   "source": [
    "import numpy as np"
   ]
  },
  {
   "cell_type": "code",
   "execution_count": 15,
   "metadata": {},
   "outputs": [],
   "source": [
    "def changedProfile(P1, P2):\n",
    "    return not np.array_equal(P1, P2)"
   ]
  },
  {
   "cell_type": "code",
   "execution_count": 16,
   "metadata": {},
   "outputs": [],
   "source": [
    "assert(changedProfile(\"ABC\",\"ABC\")==0)\n",
    "assert(changedProfile(\"ABC\",\"ACC\")==1)"
   ]
  },
  {
   "cell_type": "code",
   "execution_count": 33,
   "metadata": {},
   "outputs": [
    {
     "name": "stdout",
     "output_type": "stream",
     "text": [
      "Score des motifs les plus probables de la séquence:\n",
      "\n",
      " [72.0, 63.0, 71.0, 70.0, 72.0, 74.0, 73.0, 72.0, 74.0, 71.0, 71.0, 71.0, 73.0, 73.0, 73.0, 73.0, 73.0, 71.0, 67.0, 71.0] \n",
      "\n",
      "\n"
     ]
    }
   ],
   "source": [
    "def getScore(P,start,taille_motif):\n",
    "    sc = 0\n",
    "    for i in range(start,start+taille_motif):\n",
    "         if i < len(P[0]):\n",
    "                sc+=max(P[0][i],P[1][i],P[2][i],P[3][i])\n",
    "    return sc\n",
    "\n",
    "def getScoreAllPositions(P,starts,taille_motif):\n",
    "    sc = 0\n",
    "    for start in starts:\n",
    "        for i in range(start,start+taille_motif):\n",
    "            if i < len(P[0]):\n",
    "                sc+=max(P[0][i],P[1][i],P[2][i],P[3][i])\n",
    "    return sc\n",
    "\n",
    "def getScoreListe(P,taille_motif,liste):\n",
    "    return [getScore( P, start, taille_motif ) for start in liste ]\n",
    "\n",
    "\n",
    "print (\"Score des motifs les plus probables de la séquence:\\n\\n\",getScoreListe(mat_profile_sequences,k,start_probables_sequences),\"\\n\\n\")"
   ]
  },
  {
   "cell_type": "code",
   "execution_count": 18,
   "metadata": {},
   "outputs": [
    {
     "name": "stdout",
     "output_type": "stream",
     "text": [
      "['GGCTGAC', 'ATCCGCG', 'AACTCCA', 'GCAATCT', 'ATAGGTC', 'AGCAGCT', 'TCTGCAT', 'TTCTGCG', 'CAGCTTC', 'TCTGCAG', 'GATTACG', 'ATATCAG', 'CTTTATG', 'AGCTTCC', 'AGCTTTC', 'ATACTTC', 'GCAGCTT', 'ATCATCA', 'AGCAGAC', 'GGGTGAG']\n",
      "True\n"
     ]
    }
   ],
   "source": [
    "\n",
    "def GreedyProfileMotifSearch(sequences, mat_profile, t, n, k):\n",
    "    s = generateRandomS(sequences, k, t)\n",
    "    bestScore = 0\n",
    "    score = getScoreAllPositions(mat_profile, s, k)\n",
    "    while score > bestScore:\n",
    "        bestScore = score\n",
    "        for j in range(1,t):\n",
    "            s[j] = pMostProbkmer(mat_profile,k,sequences[j])\n",
    "        score = getScoreAllPositions(mat_profile, s, k)\n",
    "    \n",
    "    return s, bestScore\n",
    "\n",
    "        \n",
    "s, bestScore = GreedyProfileMotifSearch(sequences, mat_profile_sequences, t, n, k)   \n",
    "motifs = extractSeqs(s, sequences)\n",
    "motifs = [''.join(m) for m in motifs]\n",
    "print (motifs)\n",
    "print(motif_implante in motifs)"
   ]
  },
  {
   "cell_type": "code",
   "execution_count": 19,
   "metadata": {},
   "outputs": [
    {
     "name": "stdout",
     "output_type": "stream",
     "text": [
      "1262.0 [13, 31, 14, 35, 7, 11, 39, 38, 13, 42, 48, 14, 40, 47, 47, 47, 12, 14, 19, 42]\n",
      "['CACGAGA', 'ATCCGCG', 'AACTCCA', 'GCAATCT', 'ATAGGTC', 'AGCAGCT', 'TCTGCAT', 'TTCTGCG', 'CAGCTTC', 'TCTGCAG', 'GATTACG', 'ATATCAG', 'CTTTATG', 'AGCTTCC', 'AGCTTTC', 'ATACTTC', 'GCAGCTT', 'ATCATCA', 'AGCAGAC', 'GGGTGAG']\n",
      "True\n"
     ]
    }
   ],
   "source": [
    "def GreedyProfileMotifSearchIte(sequences, mat_profile, t, n, k, It):\n",
    "    scores = []\n",
    "    positions = []\n",
    "    for i in range(It):\n",
    "        s, score = GreedyProfileMotifSearch(sequences, mat_profile, t,n, k)\n",
    "        scores.append(score)\n",
    "        positions.append(s)\n",
    "    j = scores.index(max(scores))\n",
    "    return scores[j], positions[j]\n",
    "    \n",
    "bestScore, s = GreedyProfileMotifSearchIte(sequences,mat_profile_sequences, t, n, k, 100)\n",
    "print (bestScore, s)\n",
    "motifs = extractSeqs(s, sequences)\n",
    "print (motifs)\n",
    "print(motif_implante in motifs)"
   ]
  },
  {
   "cell_type": "code",
   "execution_count": 21,
   "metadata": {},
   "outputs": [],
   "source": [
    "def getRandomFixePositions(taille_liste, n_max):\n",
    "    \n",
    "   \n",
    "    return [int(random.uniform(0,n_max)) for u in range(0,taille_liste)] \n",
    "\n",
    "lR = getRandomFixePositions(7, 4)\n",
    "#lR.sort()\n",
    "#print (lR)\n",
    "\n",
    "def generateKey(positions, motif):\n",
    "\n",
    "    return \"\".join(map(lambda tmp_pos: motif[tmp_pos]  ,positions))\n",
    "   \n",
    "\n"
   ]
  },
  {
   "cell_type": "code",
   "execution_count": 22,
   "metadata": {},
   "outputs": [
    {
     "name": "stdout",
     "output_type": "stream",
     "text": [
      " le motif implanté a été trouvé? :  GCAGCTT True\n"
     ]
    }
   ],
   "source": [
    "k=7 #taille de motif\n",
    "v=4 #nb de positions variable dans le motif\n",
    "t=20 #nb de sequences\n",
    "n=50 #longuer des sequence\n",
    "\n",
    "def randomProjection(DNA,t,n,k,v):\n",
    "    Bucket  = dict()\n",
    "    motifs_res  = set()\n",
    "    \n",
    "    for j in range(0,len(DNA)):\n",
    "        for i in range(0,n-k):\n",
    "        \n",
    "            tmp_motif=\"\".join(DNA[j][i:i+k])\n",
    "       \n",
    "            motifs_res.add(tmp_motif)\n",
    "        \n",
    "            positions=getRandomFixePositions( v , k )\n",
    "        \n",
    "            key=generateKey( positions , tmp_motif )\n",
    "                \n",
    "            if key in Bucket:\n",
    "                Bucket [ key ] += [tmp_motif]\n",
    "            else:\n",
    "                Bucket [ key ] = [tmp_motif]\n",
    "        \n",
    "    return Bucket, motifs_res\n",
    "\n",
    "#motifsSort = sorted(motifs, reverse=True, key=motifs.get)\n",
    "motifs, motifsSeq = randomProjection(sequences, t , n , k , v)\n",
    "print (\" le motif implanté a été trouvé? : \",motif_implante,motif_implante in motifsSeq)\n",
    "\n"
   ]
  },
  {
   "cell_type": "code",
   "execution_count": 23,
   "metadata": {},
   "outputs": [],
   "source": [
    "import operator"
   ]
  },
  {
   "cell_type": "code",
   "execution_count": 24,
   "metadata": {
    "scrolled": true
   },
   "outputs": [
    {
     "name": "stdout",
     "output_type": "stream",
     "text": [
      "best motifs candidats:\n",
      "\n",
      "\t GGCAGCT 55.0\n",
      "\t GCAGCTT 58.0\n",
      "\t CCCTGCA 59.0\n",
      "\t GCGGGCC 62.0\n",
      "\t TCCTGAC 63.0\n",
      "\t CCGCTAC 64.0\n",
      "\t TCTGTCC 66.0\n",
      "\n",
      "\n",
      "\n",
      "\n",
      "motif implanté : GCAGCTT  ,Best motif trouvé : TCTGTCC  ,score : 66.0  ,nombre de motifs ayant le meilleur score: 27\n"
     ]
    }
   ],
   "source": [
    "k=7 #taille de motif\n",
    "v=4 #nb de positions variable dans le motif\n",
    "t=20 #nb de sequences\n",
    "n=50 #longuer des sequence\n",
    "\n",
    "def evaluation_buckets(mat_profil,dico_buckets,N_meilleurs_bucket,taille_motif):\n",
    "    best_score=0\n",
    "    best_motif=\"\"\n",
    "    cpt_motif_best_score=0\n",
    "    cpt=0\n",
    "    for id_bucket in dico_buckets:\n",
    "        tmp_bucket=dico_buckets[id_bucket]\n",
    "        for i in tmp_bucket:\n",
    "        \n",
    "            tmp_score=getScore(mat_profil,i[0],taille_motif)\n",
    "        \n",
    "            if tmp_score>best_score:\n",
    "                best_score=tmp_score\n",
    "                best_motif=i[1]\n",
    "                print(\"\\t\",best_motif,best_score)\n",
    "                cpt_motif_best_score=1\n",
    "            \n",
    "            if tmp_score==best_score:\n",
    "                cpt_motif_best_score+=1\n",
    "            \n",
    "        if (cpt>=N_meilleurs_bucket):\n",
    "            return (best_score,best_motif,cpt_motif_best_score)\n",
    "        \n",
    "        cpt+=1\n",
    "    \n",
    "    \n",
    "    return best_score,best_motif,cpt_motif_best_score\n",
    "\n",
    "def randomProjIt(DNA,t,n,k,v, It,N_buckets):\n",
    "    \n",
    "    profile_mat=profile(sequences)\n",
    "\n",
    "    \n",
    "    \n",
    "    Bucket  = dict()\n",
    "    motifs_res  = set()\n",
    "    \n",
    "    for cpt in range (0,It):\n",
    "        \n",
    "        \n",
    "        \n",
    "        for j in range(0,len(DNA)):\n",
    "            for i in range(0,n-k):\n",
    "        \n",
    "                tmp_motif=\"\".join(DNA[j][i:i+k])\n",
    "       \n",
    "                motifs_res.add(tmp_motif)\n",
    "            \n",
    "                positions=getRandomFixePositions( v , k )\n",
    "                \n",
    "                key=generateKey( positions , tmp_motif )\n",
    "                \n",
    "                if key in Bucket:\n",
    "                    Bucket [ key ] += [(i,tmp_motif)]\n",
    "                else:\n",
    "                    Bucket [ key ] = [(i,tmp_motif)]\n",
    "                \n",
    "            \n",
    "    #tri du dictionnaire en fonction des Bucket les plus remplis\n",
    "    Bucket=dict( (a,Bucket[a]) for a in (sorted(Bucket, key=lambda k: len(Bucket[k]), reverse=True)))\n",
    "    print(\"best motifs candidats:\\n\")\n",
    "    best_score,best_motif,cpt_best_score=evaluation_buckets(profile_mat,Bucket,N_buckets,k)\n",
    "    print(\"\\n\\n\\n\")\n",
    "    return best_score,best_motif,cpt_best_score\n",
    "\n",
    "best_score,best_motif,cpt_best_score =randomProjIt(sequences, t , n , k , v,10,5)\n",
    "\n",
    "print(\"motif implanté :\",motif_implante,\" ,Best motif trouvé :\",best_motif,\" ,score :\",best_score,\" ,nombre de motifs ayant le meilleur score:\",cpt_best_score)\n",
    "\n",
    "#for k in Bucket:\n",
    "#   print(len(Bucket[k]))"
   ]
  },
  {
   "cell_type": "code",
   "execution_count": 25,
   "metadata": {},
   "outputs": [
    {
     "name": "stdout",
     "output_type": "stream",
     "text": [
      "{'a': [40, 0, 0, 0, 0], 'c': [1, 2, 1], 'b': [9, 1]}\n"
     ]
    }
   ],
   "source": [
    "bb={\"b\":[9,1],\"c\":[1,2,1],\"a\":[40,0,0,0,0]}\n",
    "print(dict( (a,bb[a]) for a in (sorted(bb, key=lambda k: len(bb[k]), reverse=True))))"
   ]
  }
 ],
 "metadata": {
  "celltoolbar": "Raw Cell Format",
  "kernelspec": {
   "display_name": "Python 3",
   "language": "python",
   "name": "python3"
  },
  "language_info": {
   "codemirror_mode": {
    "name": "ipython",
    "version": 3
   },
   "file_extension": ".py",
   "mimetype": "text/x-python",
   "name": "python",
   "nbconvert_exporter": "python",
   "pygments_lexer": "ipython3",
   "version": "3.7.6"
  }
 },
 "nbformat": 4,
 "nbformat_minor": 4
}
