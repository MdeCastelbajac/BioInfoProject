{
 "cells": [
  {
   "cell_type": "markdown",
   "metadata": {},
   "source": [
    "# Detection de motifs\n",
    "\n",
    "\n",
    "## Boyer-Moore"
   ]
  },
  {
   "cell_type": "code",
   "execution_count": 1,
   "metadata": {},
   "outputs": [],
   "source": [
    "import random\n",
    "import numpy as np\n",
    "import operator\n",
    "import sys"
   ]
  },
  {
   "cell_type": "code",
   "execution_count": 2,
   "metadata": {},
   "outputs": [],
   "source": [
    "import random\n",
    "import numpy as np\n",
    "\n",
    "nuc = ('A', 'C', 'G', 'T')\n",
    "dico_nucl={\"A\":0,\"T\":1,\"G\":2,\"C\":3,0:\"A\",1:\"T\",2:\"G\",3:\"C\"}\n",
    "\n",
    "pattern_len=8 #taille de motif\n",
    "nb_subs= 1 #nb substituions\n",
    "nb_sequences=20 #nb de sequences\n",
    "len_sequences=100 #longuer des sequence"
   ]
  },
  {
   "cell_type": "code",
   "execution_count": 3,
   "metadata": {},
   "outputs": [],
   "source": [
    "def generateRandomSequence():\n",
    "    return \"\".join(random.choices([\"A\",\"T\",\"G\",\"C\"],weights =[1,1,1,1],k=len_sequences))\n",
    "\n",
    "def generateRandomSequences():\n",
    "    return [generateRandomSequence() for k in range(0,nb_sequences)]\n",
    "\n",
    "def generateRandomPattern():\n",
    "    return \"\".join( random.choices([\"A\",\"T\",\"G\",\"C\"],weights =[1,1,1,1],k=pattern_len) )\n",
    "\n",
    "def generateVariation(pattern):\n",
    "    dico_rand={0:\"A\",1:\"T\",2:\"G\",3:\"C\"}\n",
    "    pattern_tmp=list(pattern)\n",
    "    for i in range(0,nb_subs):\n",
    "        pattern_tmp[int(random.uniform(0,len(pattern_tmp)))]=dico_rand[int(random.uniform(0,4))]\n",
    "    return \"\".join(pattern_tmp)\n",
    "\n",
    "def implantPatternSeq(seq,pattern):\n",
    "    place_injection_pattern=int(random.uniform(0,len(seq)))\n",
    "    return seq[:place_injection_pattern]+pattern+seq[place_injection_pattern:]\n",
    "\n",
    "def implantMotif(sequences,pattern):\n",
    "    return list(map(lambda seq:implantPatternSeq(seq,pattern),sequences))\n",
    "\n",
    "def implantMotifSubstituions(sequences,pattern):\n",
    "    return list(map(lambda seq:implantPatternSeq(seq,generateVariation(pattern)),sequences))\n",
    "def motif_low_complexe_valide(motif,minrep,taille_motif):\n",
    "    for mod in range(0,taille_motif):\n",
    "        tmp_motif=motif[mod:]\n",
    "        lettre_actu=tmp_motif[:taille_motif]\n",
    "        cpt=1\n",
    "        for i in range(taille_motif,len(tmp_motif),taille_motif):\n",
    "                if lettre_actu==tmp_motif[i:i+taille_motif]:\n",
    "                    cpt+=1\n",
    "                \n",
    "                    if (cpt>=minrep):\n",
    "                        return False\n",
    "                else:\n",
    "                    lettre_actu=tmp_motif[i:i+taille_motif]\n",
    "                    cpt=1\n",
    "    return True\n",
    "                \n",
    "\n",
    "assert(motif_low_complexe_valide(\"ATGC\",2,2)==True)\n",
    "assert(motif_low_complexe_valide(\"GATATATGC\",3,2)==False)\n",
    "assert(motif_low_complexe_valide(\"ATATATGC\",3,2)==False)\n",
    "assert(motif_low_complexe_valide(\"ATAAGC\",2,1)==False)\n",
    "assert(motif_low_complexe_valide(\"ATGC\",2,1)==True)\n",
    "assert(motif_low_complexe_valide(\"ATTGC\",2,1)==False)\n",
    "assert(motif_low_complexe_valide(\"ATGC\",50,1)==True)\n",
    "\n",
    "                \n",
    "def removeLowComplexe(sequences, minrep,taille_motif):\n",
    "    res=[]\n",
    "    \n",
    "    for seq in sequences:\n",
    "        res_seq=\"\"\n",
    "        for i in range(0,len(seq)-k,k):\n",
    "            if motif_low_complexe_valide(seq[i:i+k],minrep,taille_motif):\n",
    "                res_seq+=seq[i:i+k]\n",
    "        \n",
    "        if not res_seq==\"\":\n",
    "            res+=[res_seq]\n",
    "        \n",
    "    \n",
    "    return res\n",
    "\n",
    "def implantMotifVar(k, v, t, n):\n",
    "       \n",
    "    sequences=generateRandomSequences(n, t)\n",
    "    \n",
    "    \n",
    "    res=[]\n",
    "    motif=generateMotif(k,v)\n",
    "    \n",
    "    for seq in sequences:\n",
    "        res+=[\"\".join(implant_motif_seq(seq,motif))]\n",
    "    \n",
    "    return \"\".join(motif),res\n",
    "\n",
    "def reverseComplementary(seq):\n",
    "    \"\"\"Renvoie le brin complémentaire d’une séquence.\"\"\"\n",
    "    complementary = {'A': 'T', 'C': 'G', 'G': 'C', 'T':'A'}\n",
    "    return [complementary[n] for n in seq[::-1]]"
   ]
  },
  {
   "cell_type": "code",
   "execution_count": 4,
   "metadata": {
    "scrolled": true
   },
   "outputs": [
    {
     "name": "stdout",
     "output_type": "stream",
     "text": [
      "generated Sequences (seq0):  AGGATGGCGGCCGTGCGAGGGTCAATGGAATCTTGTGCACGATGGCTCTTTCCTCCGTTACTACTCTAGAGTGTTCCCGTGCCCCCTGTTTTATTCTAGC\n",
      "generated Pattern:  TCATTGAT\n",
      "Sequences with Pattern ( with substitutions ):  AGGATGGTCATTGATCGGCCGTGCGAGGGTCAATGGAATCTTGTGCACGATGGCTCTTTCCTCCGTTACTACTCTAGAGTGTTCCCGTGCCCCCTGTTTTATTCTAGC\n"
     ]
    }
   ],
   "source": [
    "Sequences= generateRandomSequences()\n",
    "print(\"generated Sequences (seq0): \",Sequences[0])\n",
    "\n",
    "Pattern=generateRandomPattern()\n",
    "print(\"generated Pattern: \",Pattern)\n",
    "\n",
    "Sequences=implantMotifSubstituions(Sequences,Pattern)\n",
    "print(\"Sequences with Pattern ( with substitutions ): \",Sequences[0])"
   ]
  },
  {
   "cell_type": "code",
   "execution_count": 5,
   "metadata": {},
   "outputs": [],
   "source": [
    "def badCharacter(pattern):\n",
    "    '''\n",
    "    The preprocessing function for Boyer Moore's bad character heuristic\n",
    "    '''\n",
    "    res={\"A\":1,\"T\":1,\"G\":1,\"C\":1}\n",
    "    taille=len(pattern)\n",
    "    for k in range(0,taille):\n",
    "        res[pattern[k]]=max(1,taille-k-1)\n",
    "  \n",
    "    return res\n"
   ]
  },
  {
   "cell_type": "code",
   "execution_count": 6,
   "metadata": {},
   "outputs": [],
   "source": [
    "def verif(sequence,pattern):\n",
    "    taille=len(pattern)\n",
    "    for i in range(taille-1,-1,-1):\n",
    "        if sequence[i]!=pattern[i]:\n",
    "            return sequence[i]\n",
    "    return 0\n",
    "\n",
    "\n",
    "def search(sequence, pattern):\n",
    "    index=0\n",
    "    taille=len(pattern)\n",
    "    while index<len_sequences-taille:\n",
    "        tmp_seq=sequence[index:index+taille]\n",
    "        \n",
    "        decalage=verif(tmp_seq,pattern)\n",
    "        \n",
    "        if (decalage==0):\n",
    "            return index\n",
    "        else:\n",
    "            index+=badCharacter(tmp_seq)[decalage]\n",
    " \n",
    "    return -1\n",
    "    "
   ]
  },
  {
   "cell_type": "code",
   "execution_count": 7,
   "metadata": {},
   "outputs": [],
   "source": [
    "seq_test_A=[ \"B\" for k in range(0,len_sequences)]\n",
    "assert(search(seq_test_A, \"AAAAAAAA\")==-1)\n",
    "\n",
    "index_debut_test=0\n",
    "for k in range(0,pattern_len):\n",
    "    seq_test_A[index_debut_test+k]=\"A\"\n",
    "    \n",
    "assert(search(seq_test_A, \"AAAAAAAA\")==index_debut_test)\n",
    "assert(search(\"AABABABCC\", \"ABABABCC\")==1)"
   ]
  },
  {
   "cell_type": "code",
   "execution_count": 8,
   "metadata": {},
   "outputs": [],
   "source": [
    "#Le nombre de comparaisons inutiles varie en fonction de la séquence générée.\n",
    "#Cependant la force de l'algo de boyer-moore est le fait qu'on fasse des sauts\n",
    "#entre chaque comparaisons. \n",
    "#théoriquement pour une chaîne de longueur k on ne fera pas k-pattern_len comparaisons comme\n",
    "#un algorithmme de recherche \"naïf\" le ferait."
   ]
  },
  {
   "cell_type": "code",
   "execution_count": 9,
   "metadata": {},
   "outputs": [],
   "source": [
    "def verif_suffix(pattern,index_sc,index_lp):\n",
    "    index_lp_tmp=len(pattern)-1\n",
    "    while (index_sc>=0) and (index_lp_tmp>=index_lp):\n",
    "        if pattern[index_sc]!=pattern[index_lp_tmp]:\n",
    "            return False\n",
    "        index_sc+=-1\n",
    "        index_lp_tmp+=-1\n",
    "    return True"
   ]
  },
  {
   "cell_type": "code",
   "execution_count": 10,
   "metadata": {},
   "outputs": [],
   "source": [
    "assert(verif_suffix(\"ABAAAABA\",0,6)==True)\n",
    "assert(verif_suffix(\"ABAAAABA\",2,6)==True)\n",
    "assert(verif_suffix(\"CBAAAABA\",0,6)==False)"
   ]
  },
  {
   "cell_type": "code",
   "execution_count": 11,
   "metadata": {},
   "outputs": [],
   "source": [
    "def find_suffix(pattern,index_lp):\n",
    "    for k in range(len(pattern)-2,-1,-1):\n",
    "        if verif_suffix(pattern,k,index_lp):\n",
    "            return k+1\n",
    "    return 0"
   ]
  },
  {
   "cell_type": "code",
   "execution_count": 12,
   "metadata": {},
   "outputs": [],
   "source": [
    "assert(find_suffix(\"ABAAAABA\",6)==3) #BA\n",
    "assert(find_suffix(\"CBAAAABA\",5)==0) #ABA"
   ]
  },
  {
   "cell_type": "code",
   "execution_count": 13,
   "metadata": {},
   "outputs": [],
   "source": [
    "def goodSuffix(pattern):\n",
    "    \n",
    "    res = dict()\n",
    "    taille=len(pattern)\n",
    "    for k in range(taille-1,0,-1):\n",
    "        res[pattern[k:]]=taille-find_suffix(pattern,k)\n",
    "    \n",
    "    return res"
   ]
  },
  {
   "cell_type": "code",
   "execution_count": 14,
   "metadata": {},
   "outputs": [],
   "source": [
    "assert ( goodSuffix(\"BAOBAB\")=={'B': 2, 'AB': 5, 'BAB': 5, 'OBAB': 5, 'AOBAB': 5} )\n",
    "assert (goodSuffix(\"ABCBAB\") =={'B': 2, 'AB': 4, 'BAB': 4, 'CBAB': 4, 'BCBAB': 4} )"
   ]
  },
  {
   "cell_type": "code",
   "execution_count": 15,
   "metadata": {},
   "outputs": [],
   "source": [
    "def search(sequence, pattern):\n",
    "    '''\n",
    "    A pattern searching function that uses Bad Character\n",
    "    Heuristic of Boyer Moore Algorithm\n",
    "    '''\n",
    "    index=pattern_len-1\n",
    "    taille=len(sequence)\n",
    "    \n",
    "    badChar = badCharacter(pattern) \n",
    "    gs = goodSuffix(pattern)\n",
    "    \n",
    "    while index<taille:\n",
    "        \n",
    "        tmp_pattern=sequence[index-pattern_len+1:index+1]\n",
    "        for i in range(pattern_len-1,-1,-1):\n",
    "            \n",
    "            if tmp_pattern[i]!=pattern[i]:\n",
    "                \n",
    "                index+=max(gs[pattern[i]],badChar[pattern[i]])\n",
    "                break\n",
    "            if (i==0):\n",
    "                return index-pattern_len+1\n",
    "    return -1\n",
    "        \n",
    "    badChar = badCharacter(motif) \n",
    "    gs = goodSuffix(motif)"
   ]
  },
  {
   "cell_type": "code",
   "execution_count": 16,
   "metadata": {},
   "outputs": [],
   "source": [
    "assert(search(\"ACAAABABABCC\", \"ABABABCC\")==4)\n",
    "assert(search(\"BBBBBBBBBBBBBB\", \"ABABABCC\")==-1)\n",
    "assert(search(\"ABABABCC\", \"ABABABCC\")==0)\n",
    "assert(search(\"AABABABCC\", \"ABABABCC\")==1)"
   ]
  },
  {
   "cell_type": "code",
   "execution_count": 18,
   "metadata": {},
   "outputs": [],
   "source": [
    "def indexTable(k, texte):\n",
    "    indexes  = dict();\n",
    "    \n",
    "    taille_texte=len(texte)\n",
    "    for i in range(0,taille_texte-k+1):\n",
    "        mot_tmp=''.join(texte[i:i+k])\n",
    "        if mot_tmp in indexes:\n",
    "            indexes[mot_tmp].append(i)\n",
    "        else:\n",
    "            indexes[mot_tmp]=[i]\n",
    "        \n",
    "    return indexes\n"
   ]
  },
  {
   "cell_type": "code",
   "execution_count": 19,
   "metadata": {},
   "outputs": [
    {
     "data": {
      "text/plain": [
       "{'ATG', 'GAT', 'TGA'}"
      ]
     },
     "execution_count": 19,
     "metadata": {},
     "output_type": "execute_result"
    }
   ],
   "source": [
    "def seeds(k, motif):\n",
    "    res=set()\n",
    "    taille_motif=len(motif)\n",
    "    \n",
    "    for i in range(0,taille_motif-k+1):\n",
    "        res.add(motif[i:i+k])\n",
    "    return res\n",
    "\n",
    "\n",
    "seeds(3,\"ATGATG\")"
   ]
  },
  {
   "cell_type": "code",
   "execution_count": 20,
   "metadata": {},
   "outputs": [],
   "source": [
    "def searchIndexTable(indexTable, k, motif):\n",
    "    kmer = seeds(k, motif)\n",
    "    indexes = []\n",
    "    if kmer != {}:\n",
    "        for k in kmer:\n",
    "            if k in indexTable:\n",
    "                indexes += indexTable[k]\n",
    "    return indexes"
   ]
  },
  {
   "cell_type": "code",
   "execution_count": 21,
   "metadata": {},
   "outputs": [
    {
     "name": "stdout",
     "output_type": "stream",
     "text": [
      "[1293, 3171, 6622, 6750, 7204, 7566, 8396, 9444, 10914, 11752, 18924, 19659, 20229, 20245, 23155, 25941, 26893, 28604, 29482, 31471, 35209, 35849, 37229, 37391, 38058]\n"
     ]
    }
   ],
   "source": [
    "indexT = indexTable(8, ''.join(sequences))\n",
    "print(searchIndexTable(indexT, 8, 'TCCGTGGA'))"
   ]
  }
 ],
 "metadata": {
  "celltoolbar": "Raw Cell Format",
  "kernelspec": {
   "display_name": "Python 3",
   "language": "python",
   "name": "python3"
  },
  "language_info": {
   "codemirror_mode": {
    "name": "ipython",
    "version": 3
   },
   "file_extension": ".py",
   "mimetype": "text/x-python",
   "name": "python",
   "nbconvert_exporter": "python",
   "pygments_lexer": "ipython3",
   "version": "3.7.6"
  }
 },
 "nbformat": 4,
 "nbformat_minor": 4
}
