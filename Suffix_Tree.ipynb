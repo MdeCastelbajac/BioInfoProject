{
 "cells": [
  {
   "cell_type": "markdown",
   "metadata": {},
   "source": [
    "# Detection de motifs\n",
    "\n",
    "\n",
    "## Suffix Trees"
   ]
  },
  {
   "cell_type": "code",
   "execution_count": 317,
   "metadata": {},
   "outputs": [],
   "source": [
    "from suffix_trees import STree\n",
    "import random\n",
    "import numpy as np\n",
    "import re\n",
    "from itertools import product\n",
    "import operator"
   ]
  },
  {
   "cell_type": "code",
   "execution_count": 342,
   "metadata": {},
   "outputs": [],
   "source": [
    "nuc = (\"A\", \"C\", \"G\", \"T\")\n",
    "\n",
    "pattern_len = 8 #taille de motif\n",
    "subs_nb = 0 #nb de positions variables dans le motif\n",
    "sequence_nb = 50 #nb de sequences\n",
    "sequence_len = 100 #longuer des sequence\n",
    "min_repetition = 4 #nombre de répétitions"
   ]
  },
  {
   "cell_type": "code",
   "execution_count": 343,
   "metadata": {},
   "outputs": [],
   "source": [
    "# FONCTIONS DES TMEs PRECEDENTS\n",
    "\n",
    "def isSimple(pattern):\n",
    "    for c in pattern:\n",
    "        if len([s.start() for s in re.finditer(c, pattern)]) >= min_repetition:\n",
    "               return True\n",
    "    return False\n",
    "               \n",
    "def isSimplePair(pattern):\n",
    "    for i in range(len(pattern)-2):    \n",
    "        if pattern[i+1:].find(pattern[i:i+2]) != -1:\n",
    "            return True\n",
    "    return False\n",
    "    \n",
    "def removeSimplePatterns(patterns):\n",
    "    validPatterns = []\n",
    "    for key in patterns:\n",
    "        if not isSimple(key):\n",
    "               validPatterns.append(key)\n",
    "    return validPatterns\n",
    "\n",
    "def removeSimplePairPatterns(patterns):\n",
    "    validPatterns = []\n",
    "    for key in patterns:\n",
    "        if not isSimplePair(key):\n",
    "            validPatterns.append(key)\n",
    "    return validPatterns\n",
    "\n",
    "def hamdist(v, x):\n",
    "    return sum(map(lambda a,b :int(a.lower()!=b.lower()) ,v,x))\n",
    "\n",
    "def reverseComplementary(seq):\n",
    "    \"\"\"Renvoie le brin complémentaire d’une séquence.\"\"\"\n",
    "    complementary = {'A': 'T', 'C': 'G', 'G': 'C', 'T':'A'}\n",
    "    return [complementary[n] for n in seq[::-1]]"
   ]
  },
  {
   "cell_type": "code",
   "execution_count": 344,
   "metadata": {},
   "outputs": [],
   "source": [
    "def generateRandomSequence():\n",
    "    return \"\".join(random.choices([\"A\",\"T\",\"G\",\"C\"],weights =[1,1,1,1],k=sequence_nb))\n",
    "\n",
    "def generateRandomSequences():\n",
    "    return [generateRandomSequence() for k in range(0,sequence_len)]\n",
    "\n",
    "def generatePattern():\n",
    "    pattern = random.choices([\"A\",\"T\",\"G\",\"C\"],weights =[1,1,1,1],k=pattern_len)\n",
    "    while (isSimple(''.join(pattern)) or isSimplePair(''.join(pattern))):\n",
    "        pattern = random.choices([\"A\",\"T\",\"G\",\"C\"],weights =[1,1,1,1],k=pattern_len)\n",
    "    return pattern\n",
    "\n",
    "def substitutePattern(pattern):\n",
    "    dico_rand={0:\"A\",1:\"T\",2:\"G\",3:\"C\"}\n",
    "    pattern_tmp=list(pattern)\n",
    "    for i in range(0,subs_nb):\n",
    "        pattern_tmp[int(random.uniform(0,len(pattern_tmp)))]=dico_rand[int(random.uniform(0,4))]\n",
    "    return \"\".join(pattern_tmp)\n",
    "\n",
    "def implantPattern(seq, pattern):\n",
    "    place_injection_pattern=int(random.uniform(0,len(seq)))\n",
    "    return seq[:place_injection_pattern]+pattern+seq[place_injection_pattern:]"
   ]
  },
  {
   "cell_type": "code",
   "execution_count": 345,
   "metadata": {
    "scrolled": true
   },
   "outputs": [
    {
     "name": "stdout",
     "output_type": "stream",
     "text": [
      "AATCCTGA\n",
      "GCAGTTCGAGATACGCAGCTGTAAGTAACCTCTGTATAATCCTGATTGTCGTCCTCGG\n"
     ]
    }
   ],
   "source": [
    "#generate and implant variable motifs\n",
    "\n",
    "initial_sequences = generateRandomSequences()\n",
    "initial_pattern = generatePattern()\n",
    "\n",
    "\n",
    "\n",
    "sequences_with_initial_pattern = []\n",
    "for s in initial_sequences:\n",
    "    sequences_with_initial_pattern.append(implantPattern(s, ''.join(initial_pattern)))\n",
    "    \n",
    "print(''.join(initial_pattern))\n",
    "print(sequences_with_initial_pattern[0])"
   ]
  },
  {
   "cell_type": "code",
   "execution_count": 346,
   "metadata": {},
   "outputs": [],
   "source": [
    "def construct_tree(sequences):\n",
    "    return STree.STree(sequences)"
   ]
  },
  {
   "cell_type": "code",
   "execution_count": 347,
   "metadata": {},
   "outputs": [],
   "source": [
    "tree = construct_tree(sequences_with_initial_pattern)"
   ]
  },
  {
   "cell_type": "code",
   "execution_count": 348,
   "metadata": {},
   "outputs": [],
   "source": [
    "# TEST\n",
    "assert(len(sequences_with_initial_pattern) == len(tree.find_all(''.join(initial_pattern))))"
   ]
  },
  {
   "cell_type": "code",
   "execution_count": 349,
   "metadata": {},
   "outputs": [],
   "source": [
    "def generateAllKmers(alphabet):\n",
    "    validKmers = [''.join(c) for c in product(''.join(alphabet), repeat=pattern_len)]\n",
    "    return removeSimplePairPatterns(removeSimplePatterns(validKmers))"
   ]
  },
  {
   "cell_type": "code",
   "execution_count": 350,
   "metadata": {},
   "outputs": [
    {
     "name": "stdout",
     "output_type": "stream",
     "text": [
      "True\n"
     ]
    }
   ],
   "source": [
    "validK = generateAllKmers(nuc)\n",
    "print(''.join(initial_pattern) in validK)"
   ]
  },
  {
   "cell_type": "code",
   "execution_count": 351,
   "metadata": {},
   "outputs": [],
   "source": [
    "def exact_match(validK, tree):\n",
    "    res = dict()\n",
    "    for kmer in validK:\n",
    "        res[kmer] = len(tree.find_all(kmer))\n",
    "    return dict(sorted(res.items(), key=operator.itemgetter(1),reverse=True))"
   ]
  },
  {
   "cell_type": "code",
   "execution_count": 352,
   "metadata": {
    "scrolled": false
   },
   "outputs": [
    {
     "name": "stdout",
     "output_type": "stream",
     "text": [
      "[('AATCCTGA', 100), ('GAATCCTG', 31), ('ATCCTGAG', 28), ('ATCCTGAA', 26), ('CAATCCTG', 24), ('TAATCCTG', 23), ('ATCCTGAC', 18), ('GGAATCCT', 11), ('TCCTGAGC', 11), ('TCCTGAAC', 10)]\n"
     ]
    }
   ],
   "source": [
    "pattern_found = exact_match(validK, tree)\n",
    "print(list(pattern_found.items())[:10])"
   ]
  },
  {
   "cell_type": "code",
   "execution_count": 353,
   "metadata": {},
   "outputs": [],
   "source": [
    "sequences_with_variant = []\n",
    "for s in initial_sequences:\n",
    "    sequences_with_variant.append(implantPattern(s, substitutePattern(initial_pattern)))"
   ]
  },
  {
   "cell_type": "code",
   "execution_count": 354,
   "metadata": {},
   "outputs": [
    {
     "name": "stdout",
     "output_type": "stream",
     "text": [
      "[('AATCCTGA', 100), ('ATCCTGAA', 29), ('TAATCCTG', 26), ('GAATCCTG', 24), ('ATCCTGAG', 23), ('CAATCCTG', 23), ('ATCCTGAC', 22), ('TCCTGAAC', 11), ('TCCTGAGG', 10), ('TCCTGAAT', 8)]\n"
     ]
    }
   ],
   "source": [
    "tree = construct_tree(sequences_with_variant)\n",
    "patterns_found = exact_match(validK, tree)\n",
    "print(list(patterns_found.items())[:10])"
   ]
  },
  {
   "cell_type": "code",
   "execution_count": 355,
   "metadata": {},
   "outputs": [],
   "source": [
    "def inexact_match(kmer, sequences, tree):\n",
    "    Ns = subs_nb+1\n",
    "    Ls = int(pattern_len/Ns)\n",
    "    allCandidates = []\n",
    "    for i in range(Ns):\n",
    "        seed = kmer[i*Ls:i*Ls+Ls]\n",
    "        candidateIndex = tree.find_all(seed)\n",
    "        for index in candidateIndex:\n",
    "            candidateText = sequences[index-i*Ls: index+pattern_len-i*Ls]\n",
    "            if len(candidateText) == pattern_len and hamdist(kmer, candidateText) <= subs_nb:\n",
    "                allCandidates.append(candidateText)\n",
    "    return allCandidates"
   ]
  },
  {
   "cell_type": "code",
   "execution_count": 1,
   "metadata": {
    "scrolled": false
   },
   "outputs": [
    {
     "ename": "NameError",
     "evalue": "name 'sequences_with_variant' is not defined",
     "output_type": "error",
     "traceback": [
      "\u001b[1;31m---------------------------------------------------------------------------\u001b[0m",
      "\u001b[1;31mNameError\u001b[0m                                 Traceback (most recent call last)",
      "\u001b[1;32m<ipython-input-1-f0f4f7100dba>\u001b[0m in \u001b[0;36m<module>\u001b[1;34m\u001b[0m\n\u001b[1;32m----> 1\u001b[1;33m \u001b[0mconcatS\u001b[0m \u001b[1;33m=\u001b[0m \u001b[1;34m''\u001b[0m\u001b[1;33m.\u001b[0m\u001b[0mjoin\u001b[0m\u001b[1;33m(\u001b[0m\u001b[0msequences_with_variant\u001b[0m\u001b[1;33m)\u001b[0m\u001b[1;33m\u001b[0m\u001b[1;33m\u001b[0m\u001b[0m\n\u001b[0m\u001b[0;32m      2\u001b[0m \u001b[0mmaxlen\u001b[0m \u001b[1;33m=\u001b[0m \u001b[1;36m0\u001b[0m\u001b[1;33m\u001b[0m\u001b[1;33m\u001b[0m\u001b[0m\n\u001b[0;32m      3\u001b[0m \u001b[1;32mfor\u001b[0m \u001b[0mkmer\u001b[0m \u001b[1;32min\u001b[0m \u001b[0mvalidK\u001b[0m\u001b[1;33m:\u001b[0m\u001b[1;33m\u001b[0m\u001b[1;33m\u001b[0m\u001b[0m\n\u001b[0;32m      4\u001b[0m     \u001b[0mf\u001b[0m \u001b[1;33m=\u001b[0m \u001b[0minexact_match\u001b[0m\u001b[1;33m(\u001b[0m\u001b[0mkmer\u001b[0m\u001b[1;33m,\u001b[0m \u001b[0mconcatS\u001b[0m\u001b[1;33m,\u001b[0m \u001b[0mtree\u001b[0m\u001b[1;33m)\u001b[0m\u001b[1;33m\u001b[0m\u001b[1;33m\u001b[0m\u001b[0m\n\u001b[0;32m      5\u001b[0m     \u001b[1;32mif\u001b[0m \u001b[0mlen\u001b[0m\u001b[1;33m(\u001b[0m\u001b[0mf\u001b[0m\u001b[1;33m)\u001b[0m \u001b[1;33m>=\u001b[0m \u001b[0mmaxlen\u001b[0m\u001b[1;33m:\u001b[0m\u001b[1;33m\u001b[0m\u001b[1;33m\u001b[0m\u001b[0m\n",
      "\u001b[1;31mNameError\u001b[0m: name 'sequences_with_variant' is not defined"
     ]
    }
   ],
   "source": [
    "concatS = ''.join(sequences_with_variant)\n",
    "maxlen = 0\n",
    "for kmer in validK:\n",
    "    f = inexact_match(kmer, concatS, tree)\n",
    "    if len(f) >= maxlen:\n",
    "        maxlen = len(f)\n",
    "        maxKmer = kmer\n",
    "        maxKmerVariant=f\n",
    "        print(maxKmer, len(f))"
   ]
  },
  {
   "cell_type": "code",
   "execution_count": 357,
   "metadata": {},
   "outputs": [],
   "source": [
    "# Test avec motif initial TTAGTGCA"
   ]
  },
  {
   "cell_type": "markdown",
   "metadata": {},
   "source": [
    "Motif LOGO: ![](./logo_motif.png)"
   ]
  }
 ],
 "metadata": {
  "celltoolbar": "Raw Cell Format",
  "kernelspec": {
   "display_name": "Python 3",
   "language": "python",
   "name": "python3"
  },
  "language_info": {
   "codemirror_mode": {
    "name": "ipython",
    "version": 3
   },
   "file_extension": ".py",
   "mimetype": "text/x-python",
   "name": "python",
   "nbconvert_exporter": "python",
   "pygments_lexer": "ipython3",
   "version": "3.7.6"
  }
 },
 "nbformat": 4,
 "nbformat_minor": 4
}
